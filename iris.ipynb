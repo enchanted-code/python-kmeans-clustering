{
 "cells": [
  {
   "cell_type": "markdown",
   "id": "314af45e-f2bd-4e42-acbb-cedbae9f53f4",
   "metadata": {
    "tags": []
   },
   "source": [
    "# Introduction"
   ]
  },
  {
   "cell_type": "markdown",
   "id": "775da37a-c47c-4624-8199-086ef8364629",
   "metadata": {
    "tags": []
   },
   "source": [
    "# Method"
   ]
  },
  {
   "cell_type": "markdown",
   "id": "4945169c-71bc-49c3-ae85-cc2452c35a37",
   "metadata": {
    "tags": []
   },
   "source": [
    "## Import Libraries\n",
    "Before running any code some libary imports are required.\n",
    "\n",
    "- urlib.request is being used to download the data set\n",
    "- matplotlib is imported to allow for plotting the data onto a graph\n",
    "- pandas is being imported to allow for datasets to be imported and manipulated in-memory\n",
    "- sklean is used to perform kmeans clustering"
   ]
  },
  {
   "cell_type": "code",
   "execution_count": null,
   "id": "eb10b3c1-13da-4b72-9ee8-80288629bf14",
   "metadata": {},
   "outputs": [],
   "source": [
    "from urllib.request import urlopen\n",
    "\n",
    "import matplotlib.pyplot as plt\n",
    "import pandas as pd\n",
    "from sklearn.cluster import KMeans"
   ]
  },
  {
   "cell_type": "markdown",
   "id": "7728e195-a4c2-4991-82c9-29cebfd4cfea",
   "metadata": {
    "tags": []
   },
   "source": [
    "## Get Data\n",
    "Before doing any calculations we will need to download and prepare the data."
   ]
  },
  {
   "cell_type": "markdown",
   "id": "85c5bde2-0dc8-4ca9-af6d-9c6f6842ce80",
   "metadata": {},
   "source": [
    "### Download Data\n",
    "This section of code allows for the dataset to be downloaded from source into the current working directory. It also strips any leading or trailing white space characters."
   ]
  },
  {
   "cell_type": "code",
   "execution_count": null,
   "id": "c4669455-fb9c-4620-a1cf-93fb949522ef",
   "metadata": {},
   "outputs": [],
   "source": [
    "source_url = \"https://archive.ics.uci.edu/ml/machine-learning-databases/iris/iris.data\"\n",
    "download_filename = \"iris.data\"\n",
    "\n",
    "with urlopen(source_url) as response:\n",
    "    content = response.read()\n",
    "    with open(download_filename, \"wb\") as fo:\n",
    "        fo.write(content.strip())"
   ]
  },
  {
   "cell_type": "markdown",
   "id": "0b50fa6e-61bb-482d-a441-aec5325bb46c",
   "metadata": {},
   "source": [
    "### Process Data\n",
    "To use the downloaded dataset, it needs to be processed to be ready. This code will add a header and write to the processed file path."
   ]
  },
  {
   "cell_type": "code",
   "execution_count": null,
   "id": "e29defef-9578-4780-a6f4-9e4d494b191f",
   "metadata": {},
   "outputs": [],
   "source": [
    "processed_filename = \"iris.csv\"\n",
    "csv_header = b\"sepal-length,sepal-width,petal-length,petal-width,class\"\n",
    "\n",
    "with open(download_filename, \"rb\") as src_fo:\n",
    "    with open(processed_filename, \"wb\") as fo:\n",
    "        fo.write(csv_header)\n",
    "        fo.write(b\"\\n\")\n",
    "        fo.write(src_fo.read())"
   ]
  },
  {
   "cell_type": "markdown",
   "id": "ad65efb8-d26b-47ff-be7d-d3e4d66a571f",
   "metadata": {
    "tags": []
   },
   "source": [
    "### Load Data From CSV Into DataFrame\n",
    "Once the dataset has been processed into a valid csv file, it can be loaded into a pandas DataFrame."
   ]
  },
  {
   "cell_type": "code",
   "execution_count": null,
   "id": "e5316d25-ab0d-4326-8632-00870641e03d",
   "metadata": {},
   "outputs": [],
   "source": [
    "df = pd.read_csv(processed_filename)"
   ]
  },
  {
   "cell_type": "markdown",
   "id": "046e3529-2cea-4855-a1ec-af8e4e86876c",
   "metadata": {},
   "source": [
    "## Show Loaded Data\n",
    "Once the data is loaded we can preview the dataset which currently shows all the columns from the csv file."
   ]
  },
  {
   "cell_type": "code",
   "execution_count": null,
   "id": "21aa98c0-7293-42d8-8c73-acef56411ea5",
   "metadata": {},
   "outputs": [],
   "source": [
    "df"
   ]
  },
  {
   "cell_type": "markdown",
   "id": "75040579-9ab3-4b1c-b0a3-fa17ddf617a7",
   "metadata": {
    "tags": []
   },
   "source": [
    "## Select Columns To Use\n",
    "For clustering only two columns are needed, in this code sample they are selected and referenced in the variable `selected_data`."
   ]
  },
  {
   "cell_type": "code",
   "execution_count": null,
   "id": "39c6d315-16e7-4fa8-bd0b-00829e8ffdf3",
   "metadata": {},
   "outputs": [],
   "source": [
    "column_names = [\"sepal-length\", \"petal-length\"]"
   ]
  },
  {
   "cell_type": "code",
   "execution_count": null,
   "id": "cdfaa321-b705-46de-a9e4-8d4bf98ebdfa",
   "metadata": {
    "tags": []
   },
   "outputs": [],
   "source": [
    "selected_data = df[column_names]"
   ]
  },
  {
   "cell_type": "markdown",
   "id": "bf044b6a-e359-4535-8602-e518e0bf4a73",
   "metadata": {},
   "source": [
    "The `selected_data` can now be previewed, which shows the two selected columns."
   ]
  },
  {
   "cell_type": "code",
   "execution_count": null,
   "id": "a52928d9-fb33-43af-ae4d-35bf583db024",
   "metadata": {
    "tags": []
   },
   "outputs": [],
   "source": [
    "selected_data"
   ]
  },
  {
   "cell_type": "markdown",
   "id": "5499efa3-57f5-4bf7-a3b6-4266f91c1bde",
   "metadata": {},
   "source": [
    "## Preview Data\n",
    "Now the data is loaded it can be previewed on a scatter chart without any clusters."
   ]
  },
  {
   "cell_type": "code",
   "execution_count": null,
   "id": "358adadc-5513-4b48-ad92-f26cd5e3ee4c",
   "metadata": {},
   "outputs": [],
   "source": [
    "def plot_data(data, x, y, xl, yl, title):\n",
    "    plt.scatter(x=x, y=y, data=data)\n",
    "    plt.title(title)\n",
    "    plt.xlabel(xl)\n",
    "    plt.ylabel(yl)\n",
    "    plt.show()"
   ]
  },
  {
   "cell_type": "code",
   "execution_count": null,
   "id": "93f46d41-f32a-4111-9559-d605e7705593",
   "metadata": {},
   "outputs": [],
   "source": [
    "x, y = column_names\n",
    "plot_data(df, x, y, \"Sepal Length\", \"Petal Length\", \"Selected Data\")"
   ]
  },
  {
   "cell_type": "markdown",
   "id": "a71a7997-2bf6-4267-bac3-52e61093475c",
   "metadata": {
    "tags": []
   },
   "source": [
    "## Find Optimum K Value\n"
   ]
  },
  {
   "cell_type": "markdown",
   "id": "2109b383-10ab-453e-9de0-2b0dfa1d0650",
   "metadata": {},
   "source": [
    "To find the optimum number for k we use an elbow plot. The \"elbow\" of the graph will indicate the k value, we can also go further along increasing the number of clusters as long as the intertia value is high enough."
   ]
  },
  {
   "cell_type": "code",
   "execution_count": null,
   "id": "4caacedd-39ad-4d89-a740-55dcdaaaeabb",
   "metadata": {
    "tags": []
   },
   "outputs": [],
   "source": [
    "def show_elbow_plot(data, max_k):\n",
    "    means = []\n",
    "    inertias = []\n",
    "    \n",
    "    for k in range(1,max_k):\n",
    "        kmeans = KMeans(n_clusters=k)\n",
    "        kmeans.fit(data)\n",
    "        means.append(k)\n",
    "        inertias.append(kmeans.inertia_)\n",
    "    \n",
    "    plt.figure(figsize=(12,5))\n",
    "    plt.plot(means, inertias, 'o-')\n",
    "    plt.xlabel(\"Number of Clusters\")\n",
    "    plt.ylabel(\"Inertia\")\n",
    "    plt.grid(True)\n",
    "    plt.show()"
   ]
  },
  {
   "cell_type": "code",
   "execution_count": null,
   "id": "bacd13a4-8b41-4d05-a433-32ab0a077756",
   "metadata": {
    "tags": []
   },
   "outputs": [],
   "source": [
    "show_elbow_plot(selected_data, 10)"
   ]
  },
  {
   "cell_type": "markdown",
   "id": "208fc022-d05e-4b40-8358-98ef01fa04f1",
   "metadata": {},
   "source": [
    "The elbow plot shows that the optimum number to use for k is two, which will mean there will be two clusters. We could also use three, any numbers after that will produce undesiged results due to the intertia value being low."
   ]
  },
  {
   "cell_type": "markdown",
   "id": "4cbeb695-d3db-4efe-81dc-a2a0eda7fd2c",
   "metadata": {
    "tags": []
   },
   "source": [
    "## Calculate KMeans"
   ]
  },
  {
   "cell_type": "markdown",
   "id": "afce01bf-a8eb-49ee-ab77-81eb3ba59ac9",
   "metadata": {},
   "source": [
    "Once the optimum k value has been found, the selected data can be clustered using kmeans. Here I selected the min k value to be two which is the optmum shown by the elbow plot, and the max k value will be three the highest k value before the inertia value is too low."
   ]
  },
  {
   "cell_type": "code",
   "execution_count": null,
   "id": "f9f38938-7709-4ba0-b767-c6cdcc6e6eb3",
   "metadata": {
    "tags": []
   },
   "outputs": [],
   "source": [
    "k_min = 2\n",
    "k_max = 3\n",
    "cluster_columns = []\n",
    "\n",
    "for k in range(k_min, k_max + 1):\n",
    "    kmeans = KMeans(k).fit(selected_data)\n",
    "    df[f\"cluster_{k}\"] = kmeans.labels_\n",
    "    cluster_columns.append(f\"cluster_{k}\")"
   ]
  },
  {
   "cell_type": "markdown",
   "id": "cf1e7119-2c7c-4fa0-82f4-e2da29e4c556",
   "metadata": {},
   "source": [
    "## Get Cluster Data"
   ]
  },
  {
   "cell_type": "markdown",
   "id": "13a2f750-2c1f-4152-853c-24358c17f0fa",
   "metadata": {},
   "source": [
    "The dataset with the cluster columns added can now be previewed again."
   ]
  },
  {
   "cell_type": "code",
   "execution_count": null,
   "id": "5ab5ad82-c7f1-4982-8b9a-ca4fa3b7898e",
   "metadata": {},
   "outputs": [],
   "source": [
    "df[column_names]"
   ]
  },
  {
   "cell_type": "markdown",
   "id": "4d52c757-c45d-47dd-b05d-2e9b9d33ff27",
   "metadata": {
    "tags": []
   },
   "source": [
    "## Plot Clusters"
   ]
  },
  {
   "cell_type": "code",
   "execution_count": null,
   "id": "5fa7402d-0571-4c71-bf07-63e4fb63963c",
   "metadata": {},
   "outputs": [],
   "source": [
    "def plot_cluster(data, kmeans, x, y, c, xl, yl, title):\n",
    "    plt.scatter(x=x, y=y, c=c, data=data)\n",
    "    plt.scatter(\n",
    "        kmeans.cluster_centers_[:, 0], kmeans.cluster_centers_[:, 1],\n",
    "        s=250, marker=\"x\", c=\"black\", label=\"centers\"\n",
    "    )\n",
    "    plt.title(title)\n",
    "    plt.xlabel(xl)\n",
    "    plt.ylabel(yl)\n",
    "    plt.legend(scatterpoints=1)"
   ]
  },
  {
   "cell_type": "code",
   "execution_count": null,
   "id": "9e86f04f-05f4-4e96-837c-25e281a9fd4a",
   "metadata": {},
   "outputs": [],
   "source": [
    "plt.figure(figsize=(12,8))\n",
    "for i, k_col in enumerate(cluster_columns, 1):\n",
    "    plt.subplot(1, 2, i)\n",
    "    x, y = column_names\n",
    "    plot_cluster(df, kmeans, x, y, k_col, \"Sepal Length\", \"Petal Length\", k_col)\n",
    "plt.show()"
   ]
  },
  {
   "cell_type": "markdown",
   "id": "947cf875-2ee0-4192-8e31-aac180d4dc95",
   "metadata": {},
   "source": [
    "# Results"
   ]
  },
  {
   "cell_type": "markdown",
   "id": "ec7f5c69-94e0-489a-a8e5-486d3e95c2ef",
   "metadata": {
    "tags": []
   },
   "source": [
    "# Conclusion"
   ]
  },
  {
   "cell_type": "markdown",
   "id": "b40e4f0d-2376-4b66-97c8-775c9bdf90ab",
   "metadata": {},
   "source": [
    "# References\n",
    "- <https://archive.ics.uci.edu/ml/datasets/Iris>\n",
    "- <https://towardsdatascience.com/how-to-use-unsupervised-learning-to-cluster-well-log-data-using-python-a552713748b5> - MIT\n",
    "- <https://docs.python.org/3/library/urllib.request.html#urllib.request.urlopen>"
   ]
  },
  {
   "cell_type": "markdown",
   "id": "057decb8-ff91-49bb-b59e-564abd1155ad",
   "metadata": {
    "tags": []
   },
   "source": [
    "# Appendices\n",
    "## Source Code\n",
    "- <https://github.com/enchanted-code/python-kmeans-clustering>"
   ]
  }
 ],
 "metadata": {
  "kernelspec": {
   "display_name": "Python 3 (ipykernel)",
   "language": "python",
   "name": "python3"
  },
  "language_info": {
   "codemirror_mode": {
    "name": "ipython",
    "version": 3
   },
   "file_extension": ".py",
   "mimetype": "text/x-python",
   "name": "python",
   "nbconvert_exporter": "python",
   "pygments_lexer": "ipython3",
   "version": "3.10.2"
  },
  "toc-showcode": false
 },
 "nbformat": 4,
 "nbformat_minor": 5
}
